{
  "nbformat": 4,
  "nbformat_minor": 0,
  "metadata": {
    "colab": {
      "provenance": [],
      "authorship_tag": "ABX9TyNQ5t+6O9ojww0aO4jtTL6f",
      "include_colab_link": true
    },
    "kernelspec": {
      "name": "python3",
      "display_name": "Python 3"
    },
    "language_info": {
      "name": "python"
    }
  },
  "cells": [
    {
      "cell_type": "markdown",
      "metadata": {
        "id": "view-in-github",
        "colab_type": "text"
      },
      "source": [
        "<a href=\"https://colab.research.google.com/github/MaOtg/Imersao-Alura-IA/blob/main/Projeto_IA_MOM_Planejador_de_Viagens.ipynb\" target=\"_parent\"><img src=\"https://colab.research.google.com/assets/colab-badge.svg\" alt=\"Open In Colab\"/></a>"
      ]
    },
    {
      "cell_type": "code",
      "execution_count": 10,
      "metadata": {
        "id": "1m0hK1KUwu3e"
      },
      "outputs": [],
      "source": [
        "# Instalando a biblioteca do Gemini\n",
        "!pip install -q google.genai"
      ]
    },
    {
      "cell_type": "code",
      "source": [
        "# Importando biblioteca para melhorar a visualização da sáida nas células\n",
        "from IPython.display import HTML, display, Markdown"
      ],
      "metadata": {
        "id": "grxAIbW7J8yx"
      },
      "execution_count": 43,
      "outputs": []
    },
    {
      "cell_type": "code",
      "source": [
        "'''\n",
        "Importando bibliotecas:\n",
        "- 'os', que interage com o Sistema Operacional\n",
        "- 'google.colab.userdata', que serve para recuperar de forma segura segredos\n",
        "(como chaves de API) que foram armazenados no ambiente do Colab\n",
        "\n",
        "'''\n",
        "import os\n",
        "from google.colab import userdata\n",
        "\n",
        "# Alocando a API_KEY do Gemini na variável de ambiente\n",
        "os.environ['GOOGLE_API_KEY'] = userdata.get('GOOGLE_API_KEY')"
      ],
      "metadata": {
        "id": "CqUer56UxMHX"
      },
      "execution_count": 11,
      "outputs": []
    },
    {
      "cell_type": "code",
      "source": [
        "# Importando biblioteca do Gemini\n",
        "from google import genai\n",
        "\n",
        "# Criando variável para receber a função Client do Gemini\n",
        "# Essa função serve para se comunicar com o Gemini\n",
        "cliente = genai.Client()"
      ],
      "metadata": {
        "id": "iQZM7EbY0T9C"
      },
      "execution_count": 12,
      "outputs": []
    },
    {
      "cell_type": "code",
      "source": [
        "# Esse looping serve para listar todos os modelos do Gemini disponíveis\n",
        "for model in cliente.models.list():\n",
        "  print(model.name) # '.name' serve para trazer apenas o nome do modelo"
      ],
      "metadata": {
        "colab": {
          "base_uri": "https://localhost:8080/"
        },
        "id": "mcJekfRs1G-Y",
        "outputId": "58b0fc89-9f69-4d2f-a9c0-4b9d9156adbb"
      },
      "execution_count": 13,
      "outputs": [
        {
          "output_type": "stream",
          "name": "stdout",
          "text": [
            "models/embedding-gecko-001\n",
            "models/gemini-1.0-pro-vision-latest\n",
            "models/gemini-pro-vision\n",
            "models/gemini-1.5-pro-latest\n",
            "models/gemini-1.5-pro-001\n",
            "models/gemini-1.5-pro-002\n",
            "models/gemini-1.5-pro\n",
            "models/gemini-1.5-flash-latest\n",
            "models/gemini-1.5-flash-001\n",
            "models/gemini-1.5-flash-001-tuning\n",
            "models/gemini-1.5-flash\n",
            "models/gemini-1.5-flash-002\n",
            "models/gemini-1.5-flash-8b\n",
            "models/gemini-1.5-flash-8b-001\n",
            "models/gemini-1.5-flash-8b-latest\n",
            "models/gemini-1.5-flash-8b-exp-0827\n",
            "models/gemini-1.5-flash-8b-exp-0924\n",
            "models/gemini-2.5-pro-exp-03-25\n",
            "models/gemini-2.5-pro-preview-03-25\n",
            "models/gemini-2.5-flash-preview-04-17\n",
            "models/gemini-2.5-flash-preview-04-17-thinking\n",
            "models/gemini-2.5-pro-preview-05-06\n",
            "models/gemini-2.0-flash-exp\n",
            "models/gemini-2.0-flash\n",
            "models/gemini-2.0-flash-001\n",
            "models/gemini-2.0-flash-exp-image-generation\n",
            "models/gemini-2.0-flash-lite-001\n",
            "models/gemini-2.0-flash-lite\n",
            "models/gemini-2.0-flash-preview-image-generation\n",
            "models/gemini-2.0-flash-lite-preview-02-05\n",
            "models/gemini-2.0-flash-lite-preview\n",
            "models/gemini-2.0-pro-exp\n",
            "models/gemini-2.0-pro-exp-02-05\n",
            "models/gemini-exp-1206\n",
            "models/gemini-2.0-flash-thinking-exp-01-21\n",
            "models/gemini-2.0-flash-thinking-exp\n",
            "models/gemini-2.0-flash-thinking-exp-1219\n",
            "models/learnlm-2.0-flash-experimental\n",
            "models/gemma-3-1b-it\n",
            "models/gemma-3-4b-it\n",
            "models/gemma-3-12b-it\n",
            "models/gemma-3-27b-it\n",
            "models/embedding-001\n",
            "models/text-embedding-004\n",
            "models/gemini-embedding-exp-03-07\n",
            "models/gemini-embedding-exp\n",
            "models/aqa\n",
            "models/imagen-3.0-generate-002\n",
            "models/gemini-2.0-flash-live-001\n"
          ]
        }
      ]
    },
    {
      "cell_type": "code",
      "source": [
        "# Atribuindo o modelo flash à variável modelo\n",
        "modelo = 'gemini-2.5-flash-preview-04-17-thinking'"
      ],
      "metadata": {
        "id": "V3odFwan1SJB"
      },
      "execution_count": 24,
      "outputs": []
    },
    {
      "cell_type": "code",
      "source": [
        "# Testando a conexão com o Gemini\n",
        "\n",
        "# Fazendo uma requisição ao Gemini especificando o modelo e a pergunta que irá conferir a conexão e atribuindo à variável\n",
        "teste_resposta = cliente.models.generate_content(model = modelo, contents = 'A conexão com o Gemini está funcionando?')\n",
        "teste_resposta.text # O atributo '.text' especifica o retorno da variável"
      ],
      "metadata": {
        "colab": {
          "base_uri": "https://localhost:8080/",
          "height": 36
        },
        "id": "St41Dkf-2isO",
        "outputId": "fbbdd4d9-732f-4e40-d033-0b3444eb29de"
      },
      "execution_count": 25,
      "outputs": [
        {
          "output_type": "execute_result",
          "data": {
            "text/plain": [
              "'Sim, a conexão com o Gemini está funcionando. Estou aqui para responder às suas perguntas e ajudá-lo com o que precisar. 😊\\n'"
            ],
            "application/vnd.google.colaboratory.intrinsic+json": {
              "type": "string"
            }
          },
          "metadata": {},
          "execution_count": 25
        }
      ]
    },
    {
      "cell_type": "code",
      "source": [
        "# Importando o módulo 'types', que serve para criar configurações\n",
        "from google.genai import types\n",
        "\n",
        "def criar_configuracao(texto_instrucao):\n",
        "  # Criando uma configuração com 'types' e atribuindo à uma variável\n",
        "  chat_config = types.GenerateContentConfig(\n",
        "      system_instruction = f'''Você é um assistente pessoal, e sempre responderá em português de forma bem sucinta e eficaz.\n",
        "      Essas são memórias das nossas conversas: {texto_instrucao}'''\n",
        "  )"
      ],
      "metadata": {
        "id": "IWYlgOy226mu"
      },
      "execution_count": 63,
      "outputs": []
    },
    {
      "cell_type": "code",
      "source": [
        "# Instalando Framework de agentes do Google\n",
        "!pip install -q google-adk"
      ],
      "metadata": {
        "colab": {
          "base_uri": "https://localhost:8080/"
        },
        "id": "FfHoThIQNy2O",
        "outputId": "0fc716f9-d6a0-439d-f6f2-e1f4e8969ff6"
      },
      "execution_count": 42,
      "outputs": [
        {
          "output_type": "stream",
          "name": "stdout",
          "text": [
            "\u001b[?25l   \u001b[90m━━━━━━━━━━━━━━━━━━━━━━━━━━━━━━━━━━━━━━━━\u001b[0m \u001b[32m0.0/1.2 MB\u001b[0m \u001b[31m?\u001b[0m eta \u001b[36m-:--:--\u001b[0m\r\u001b[2K   \u001b[91m━━━━━━━━━━━━━━\u001b[0m\u001b[90m╺\u001b[0m\u001b[90m━━━━━━━━━━━━━━━━━━━━━━━━━\u001b[0m \u001b[32m0.4/1.2 MB\u001b[0m \u001b[31m12.7 MB/s\u001b[0m eta \u001b[36m0:00:01\u001b[0m\r\u001b[2K   \u001b[91m━━━━━━━━━━━━━━━━━━━━━━━━━━━━━━━━━━━━━━━\u001b[0m\u001b[91m╸\u001b[0m \u001b[32m1.2/1.2 MB\u001b[0m \u001b[31m20.3 MB/s\u001b[0m eta \u001b[36m0:00:01\u001b[0m\r\u001b[2K   \u001b[90m━━━━━━━━━━━━━━━━━━━━━━━━━━━━━━━━━━━━━━━━\u001b[0m \u001b[32m1.2/1.2 MB\u001b[0m \u001b[31m16.3 MB/s\u001b[0m eta \u001b[36m0:00:00\u001b[0m\n",
            "\u001b[2K   \u001b[90m━━━━━━━━━━━━━━━━━━━━━━━━━━━━━━━━━━━━━━━━\u001b[0m \u001b[32m232.1/232.1 kB\u001b[0m \u001b[31m21.5 MB/s\u001b[0m eta \u001b[36m0:00:00\u001b[0m\n",
            "\u001b[2K   \u001b[90m━━━━━━━━━━━━━━━━━━━━━━━━━━━━━━━━━━━━━━━━\u001b[0m \u001b[32m95.2/95.2 kB\u001b[0m \u001b[31m8.0 MB/s\u001b[0m eta \u001b[36m0:00:00\u001b[0m\n",
            "\u001b[2K   \u001b[90m━━━━━━━━━━━━━━━━━━━━━━━━━━━━━━━━━━━━━━━━\u001b[0m \u001b[32m217.1/217.1 kB\u001b[0m \u001b[31m16.3 MB/s\u001b[0m eta \u001b[36m0:00:00\u001b[0m\n",
            "\u001b[2K   \u001b[90m━━━━━━━━━━━━━━━━━━━━━━━━━━━━━━━━━━━━━━━━\u001b[0m \u001b[32m334.1/334.1 kB\u001b[0m \u001b[31m24.1 MB/s\u001b[0m eta \u001b[36m0:00:00\u001b[0m\n",
            "\u001b[2K   \u001b[90m━━━━━━━━━━━━━━━━━━━━━━━━━━━━━━━━━━━━━━━━\u001b[0m \u001b[32m125.1/125.1 kB\u001b[0m \u001b[31m8.3 MB/s\u001b[0m eta \u001b[36m0:00:00\u001b[0m\n",
            "\u001b[2K   \u001b[90m━━━━━━━━━━━━━━━━━━━━━━━━━━━━━━━━━━━━━━━━\u001b[0m \u001b[32m65.8/65.8 kB\u001b[0m \u001b[31m5.8 MB/s\u001b[0m eta \u001b[36m0:00:00\u001b[0m\n",
            "\u001b[2K   \u001b[90m━━━━━━━━━━━━━━━━━━━━━━━━━━━━━━━━━━━━━━━━\u001b[0m \u001b[32m119.0/119.0 kB\u001b[0m \u001b[31m8.7 MB/s\u001b[0m eta \u001b[36m0:00:00\u001b[0m\n",
            "\u001b[2K   \u001b[90m━━━━━━━━━━━━━━━━━━━━━━━━━━━━━━━━━━━━━━━━\u001b[0m \u001b[32m194.9/194.9 kB\u001b[0m \u001b[31m15.7 MB/s\u001b[0m eta \u001b[36m0:00:00\u001b[0m\n",
            "\u001b[2K   \u001b[90m━━━━━━━━━━━━━━━━━━━━━━━━━━━━━━━━━━━━━━━━\u001b[0m \u001b[32m62.5/62.5 kB\u001b[0m \u001b[31m4.3 MB/s\u001b[0m eta \u001b[36m0:00:00\u001b[0m\n",
            "\u001b[2K   \u001b[90m━━━━━━━━━━━━━━━━━━━━━━━━━━━━━━━━━━━━━━━━\u001b[0m \u001b[32m103.3/103.3 kB\u001b[0m \u001b[31m8.1 MB/s\u001b[0m eta \u001b[36m0:00:00\u001b[0m\n",
            "\u001b[2K   \u001b[90m━━━━━━━━━━━━━━━━━━━━━━━━━━━━━━━━━━━━━━━━\u001b[0m \u001b[32m44.4/44.4 kB\u001b[0m \u001b[31m3.7 MB/s\u001b[0m eta \u001b[36m0:00:00\u001b[0m\n",
            "\u001b[2K   \u001b[90m━━━━━━━━━━━━━━━━━━━━━━━━━━━━━━━━━━━━━━━━\u001b[0m \u001b[32m72.0/72.0 kB\u001b[0m \u001b[31m5.5 MB/s\u001b[0m eta \u001b[36m0:00:00\u001b[0m\n",
            "\u001b[?25h"
          ]
        }
      ]
    },
    {
      "cell_type": "code",
      "source": [
        "from google.adk.agents import Agent\n",
        "from google.adk.runners import Runner\n",
        "from google.adk.sessions import InMemorySessionService\n",
        "from google.adk.tools import google_search\n",
        "from google.genai import types  # Para criar conteúdos (Content e Part)\n",
        "from datetime import date\n",
        "import textwrap # Para formatar melhor a saída de texto\n",
        "import requests # Para fazer requisições HTTP\n",
        "import warnings\n",
        "\n",
        "warnings.filterwarnings(\"ignore\")"
      ],
      "metadata": {
        "id": "sVe7SvjGN3Bd"
      },
      "execution_count": 46,
      "outputs": []
    },
    {
      "cell_type": "code",
      "source": [
        "# Função auxiliar que envia uma mensagem para um agente via Runner e retorna a resposta final\n",
        "def call_agent(agent: Agent, message_text: str) -> str:\n",
        "    # Cria um serviço de sessão em memória\n",
        "    session_service = InMemorySessionService()\n",
        "    # Cria uma nova sessão (você pode personalizar os IDs conforme necessário)\n",
        "    session = session_service.create_session(app_name=agent.name, user_id=\"user1\", session_id=\"session1\")\n",
        "    # Cria um Runner para o agente\n",
        "    runner = Runner(agent=agent, app_name=agent.name, session_service=session_service)\n",
        "    # Cria o conteúdo da mensagem de entrada\n",
        "    content = types.Content(role=\"user\", parts=[types.Part(text=message_text)])\n",
        "\n",
        "    final_response = \"\"\n",
        "    # Itera assincronamente pelos eventos retornados durante a execução do agente\n",
        "    for event in runner.run(user_id=\"user1\", session_id=\"session1\", new_message=content):\n",
        "        if event.is_final_response():\n",
        "          for part in event.content.parts:\n",
        "            if part.text is not None:\n",
        "              final_response += part.text\n",
        "              final_response += \"\\n\"\n",
        "    return final_response"
      ],
      "metadata": {
        "id": "cByPKrXhW7pg"
      },
      "execution_count": 48,
      "outputs": []
    },
    {
      "cell_type": "code",
      "source": [
        "#====================================================================================================#\n",
        "# --- Agente 1: Buscador de Hotéis --- #\n",
        "#====================================================================================================#\n",
        "def agente_buscador(meu_local, pessoas, local_viagem, data_checkin, data_checkout):\n",
        "    planejador = Agent(\n",
        "        name=\"agente_buscador\",\n",
        "        model=\"gemini-2.5-flash-preview-04-17-thinking\",\n",
        "        # Abaixo há as instruções do que o agente precisa fazer\n",
        "        instruction=\"\"\"\n",
        "        Você é um agente de viagens, especialista em mapear informações sobre estadia em Hotéis.\n",
        "        Com base no local de interesse para viagem, você deve:\n",
        "        - Usar a ferramenta de busca do Google (google_search) para mapear todos os hotéis com reservas disponíveis\n",
        "        na data que o usuário informou, próximo ao local. Considere a distância do hotel com o aeroporto mais próximo.\n",
        "        - Você também pode usar o (google_search) para encontrar mais informações sobre as estadias e coletar comentários\n",
        "        de experiências anteriores de clientes naquela estadia.\n",
        "        - Coloque em uma tabela as informações obtidas sobre o hotel, organizando nas seguintes colunas:\n",
        "            -- Nome do Hotel\n",
        "            -- Avaliação Geral dos Usuários\n",
        "            -- Endereço do Hotel\n",
        "            -- Média de Preços de uma Diária (Informação importante)\n",
        "            -- Valor Total com base no número de hóspedes\n",
        "            -- Horário do Check-in e Check-out\n",
        "            -- Distância do Hotel com o Aeroporto mais próximo\n",
        "            -- Pontos de Interesse do Hotel\n",
        "            -- Observações Adicionais\n",
        "        Ao final, você irá escolher as 5 estadias mais relevantes entre aquelas mapeadas com base nas suas pesquisas\n",
        "        e mantê-las na tabela, visando o melhor custo-benefício.\n",
        "        O retorno precisa ser obrigatoriamente uma tabela estruturada.\n",
        "        \"\"\",\n",
        "        description=\"Agente que busca pelos melhores de hotéis\",\n",
        "        tools=[google_search]\n",
        "    )\n",
        "\n",
        "    entrada_do_agente_planejador = f\"Meu local:{meu_local}\\nNúmero de pessoas: {pessoas}\\nLocal da Viagem: {local_viagem}\\nData de Check-in: {data_checkin}\\nData de Check-out: {data_checkout}\"\n",
        "    # Executa o agente\n",
        "    tabela_estadias = call_agent(planejador, entrada_do_agente_planejador)\n",
        "    return tabela_estadias"
      ],
      "metadata": {
        "id": "txi5OFNsPsUL"
      },
      "execution_count": 70,
      "outputs": []
    },
    {
      "cell_type": "code",
      "source": [
        "#====================================================================================================#\n",
        "# --- Agente 2: Buscador de Passagens --- #\n",
        "#====================================================================================================#\n",
        "def agente_comissario(meu_local, pessoas, local_viagem, tabela_estadias):\n",
        "    planejador = Agent(\n",
        "        name=\"agente_comissario\",\n",
        "        model=\"gemini-2.5-flash-preview-04-17-thinking\",\n",
        "        # Abaixo há as instruções do que o agente precisa fazer\n",
        "        instruction=\"\"\"\n",
        "        Você é um agente de viagens, especialista em mapear informações sobre passagens aéreas.\n",
        "        Com base na tabela de estadias, você deve:\n",
        "        - Usar a ferramenta de busca do Google (google_search) para mapear todas as passagens aéreas.\n",
        "        - Coloque em uma tabela as informações obtidas sobre o hotel, organizando nas seguintes colunas:\n",
        "            -- Companhia Aérea\n",
        "            -- Preço da Passagem de Ida\n",
        "            -- Horário da Passagem de Ida\n",
        "            -- Duração do Vôo\n",
        "            -- Preço da Passagem de Volta\n",
        "            -- Horário da Passagem de Volta\n",
        "            -- Preço Total das passagens com base no número de hóspedes (Informação importante)\n",
        "        Ao final, você irá escolher os 5 vôos mais relevantes entre aqueles mapeados com base nas suas pesquisas\n",
        "        mantê-los na tabela, visando o melhor custo-benefício.\n",
        "        O retorno precisa ser obrigatoriamente uma tabela estruturada.\n",
        "        \"\"\",\n",
        "        description=\"Agente que busca pelas melhores passagens com base na lista de hotéis\",\n",
        "        tools=[google_search]\n",
        "    )\n",
        "\n",
        "    entrada_do_agente_planejador = f\"Meu local:{meu_local}\\nNúmero de pessoas: {pessoas}\\nLocal da Viagem: {local_viagem}\\nTabela de Estadias: {tabela_estadias}\"\n",
        "    # Executa o agente\n",
        "    tabela_passagens = call_agent(planejador, entrada_do_agente_planejador)\n",
        "    return tabela_passagens"
      ],
      "metadata": {
        "id": "JGidG3DTXE1U"
      },
      "execution_count": 71,
      "outputs": []
    },
    {
      "cell_type": "code",
      "source": [],
      "metadata": {
        "id": "Pi1lD5tQbT3G"
      },
      "execution_count": null,
      "outputs": []
    },
    {
      "cell_type": "code",
      "source": [
        "# Criando um chat interativo com Gemini\n",
        "\n",
        "prompt = ''\n",
        "separador = '='\n",
        "\n",
        "print(f'{separador * 150}')\n",
        "print('🫧 Bem vindo ao seu Assistente de Viagens! \\n')\n",
        "print('🔎 Digite suas informações.')\n",
        "print(f'{separador * 150}')\n",
        "\n",
        "meu_local = input('- Digite o local onde você pegará seu vôo: ')\n",
        "local_viagem = input('- Local da Viagem: ')\n",
        "data_checkin = input('- Data de Check-in: ')\n",
        "data_checkout = input('- Data de Check-out: ')\n",
        "numero_de_hospedes = input('- Número de Hóspedes: ')\n",
        "\n",
        "print(f'{separador * 150}')\n",
        "print('🔎 Buscando pelas informações de Estadias...')\n",
        "\n",
        "tabela_estadias = agente_buscador(meu_local, numero_de_hospedes, local_viagem, data_checkin, data_checkout)\n",
        "#print(f'\\n- Assistente: {tabela_estadias} \\n')\n",
        "\n",
        "# Criando uma configuração com 'types' e atribuindo à uma variável\n",
        "chat_config = types.GenerateContentConfig(\n",
        "    system_instruction = f'''Você é um assistente pessoal, e sempre responderá em português de forma bem sucinta e eficaz.\n",
        "    Essas são memórias das nossas conversas: {tabela_estadias}'''\n",
        ")\n",
        "# Criando uma variável que será um chat, especificando o modelo e a configuração\n",
        "chat_bot = cliente.chats.create(model = modelo,\n",
        "                                config = chat_config)\n",
        "\n",
        "exibir_tabela = chat_bot.send_message(message = f'''Memória: {tabela_estadias} \\n########## Exiba a tabela sobre as 5 Passagens Mais Relevantes fielmente,\n",
        "                                                    sem remover nenhuma informação. Deixe em formato de tabela.''', config = chat_config)\n",
        "print(exibir_tabela.text)\n",
        "\n",
        "print('🔎 Buscando pelas informações de Passagens...')\n",
        "tabela_passagens = agente_comissario(meu_local, numero_de_hospedes, local_viagem, tabela_estadias)\n",
        "#print(f'\\n- Assistente: {tabela_passagens} \\n')\n",
        "\n",
        "# Criando uma configuração com 'types' e atribuindo à uma variável\n",
        "chat_config = types.GenerateContentConfig(\n",
        "    system_instruction = f'''Você é um assistente pessoal, e sempre responderá em português de forma bem sucinta e eficaz.\n",
        "    Essas são memórias das nossas conversas: {tabela_passagens}'''\n",
        ")\n",
        "# Criando uma variável que será um chat, especificando o modelo e a configuração\n",
        "chat_bot = cliente.chats.create(model = modelo,\n",
        "                                config = chat_config)\n",
        "\n",
        "exibir_tabela = chat_bot.send_message(message = f'''Memória: {tabela_passagens} \\n########## Exiba a tabela sobre as 5 Estadias Mais Relevantes fielmente,\n",
        "                                                    sem remover nenhuma informação. Deixe em formato de tabela.''', config = chat_config)\n",
        "print(exibir_tabela.text)\n",
        "\n",
        "print(f'{separador * 150}')\n",
        "print('🫧 Precisa de mais alguma informação? Não exite em perguntar! \\n')\n",
        "print('🔎 Digite suas perguntas sobre o que te mostrei ou então digite \"Encerrar\" para finalizar a interação.')\n",
        "print(f'{separador * 150}')\n",
        "\n",
        "\n",
        "# Importando o módulo 'types', que serve para criar configurações\n",
        "from google.genai import types\n",
        "\n",
        "texto_instrucao = tabela_estadias + tabela_passagens\n",
        "\n",
        "# Criando uma configuração com 'types' e atribuindo à uma variável\n",
        "chat_config = types.GenerateContentConfig(\n",
        "    system_instruction = f'''Você é um assistente pessoal, e sempre responderá em português de forma bem sucinta e eficaz.\n",
        "    Essas são memórias das nossas conversas: {texto_instrucao}'''\n",
        ")\n",
        "# Criando uma variável que será um chat, especificando o modelo e a configuração\n",
        "chat_bot = cliente.chats.create(model = modelo,\n",
        "                                config = chat_config)\n",
        "\n",
        "while prompt != 'Encerrar':\n",
        "  prompt = input('- Você: ')\n",
        "  resposta_genai = chat_bot.send_message(prompt)\n",
        "  display(Markdown(f'\\n- Assistente: {resposta_genai.text} \\n'))\n",
        "\n",
        "print(f'{separador * 150}')\n",
        "print('📖 Criado por Mateus Ortega Mendes. Imersão IA Alura')\n",
        "print(f'{separador * 150}\\n')"
      ],
      "metadata": {
        "colab": {
          "base_uri": "https://localhost:8080/",
          "height": 847
        },
        "id": "qvszCY495uh_",
        "outputId": "5c06f738-531c-45bd-f9ed-d72ad51dae6e"
      },
      "execution_count": 84,
      "outputs": [
        {
          "name": "stdout",
          "output_type": "stream",
          "text": [
            "======================================================================================================================================================\n",
            "🫧 Bem vindo ao seu Assistente de Viagens! \n",
            "\n",
            "🔎 Digite suas informações.\n",
            "======================================================================================================================================================\n",
            "- Digite o local onde você pegará seu vôo: São Paulo\n",
            "- Local da Viagem: Foz de Iguaçu\n",
            "- Data de Check-in: 19-06-2025\n",
            "- Data de Check-out: 24-06-2025\n",
            "- Número de Hóspedes: 3\n",
            "======================================================================================================================================================\n",
            "🔎 Buscando pelas informações de Estadias...\n",
            "Aqui está a tabela solicitada:\n",
            "\n",
            "| Nome do Hotel                       | Avaliação Geral dos Usuários | Endereço do Hotel                                        | Média de Preços de uma Diária | Valor Total (Estimado para 3 pessoas) | Horário do Check-in e Check-out | Distância do Hotel com o Aeroporto mais próximo (IGU) | Pontos de Interesse do Hotel                                                                                                                               | Observações Adicionais                                                                                                                                                                                                                            |\n",
            "|-------------------------------------|------------------------------|----------------------------------------------------------|-------------------------------|---------------------------------------|---------------------------------|-------------------------------------------------------|------------------------------------------------------------------------------------------------------------------------------------------------------------|---------------------------------------------------------------------------------------------------------------------------------------------------------------------------------------------------------------------------------------------------|\n",
            "| Tarobá Hotel                        | Ótima custo-benefício    | Centro                                                   | A partir de R$ 168        | Varia conforme o quarto selecionado   | Informar ao reservar          | Aproximadamente 15 km                         | Localização central, bom custo-benefício.                                                                                                                  | Considerado um dos melhores em custo-benefício.                                                                                                                                                                                               |\n",
            "| Foz Express Hotel Centro            | Melhor custo-benefício   | Centro                                                   | A partir de R$ 90         | Varia conforme o quarto selecionado   | Informar ao reservar          | Aproximadamente 15 km                         | Localização central. Quartos com ar-condicionado e Wi-Fi grátis.                                                                               | Oferece Wi-Fi e estacionamento privativo grátis.                                                                                                                                                                                              |\n",
            "| Rede Andrade Vivaldi                | Popular                  | Não especificado na fonte                                | A partir de R$ 118        | Varia conforme o quarto selecionado   | Informar ao reservar          | Varia conforme a localização exata                    | Próximo a mercados e shopping, excelente estrutura e café da manhã.                                                                                    | Avaliação de \"ótimo custo benefício\".                                                                                                                                                                                                         |\n",
            "| ibis budget Foz Do Iguacu           | Popular                  | Não especificado na fonte                                | A partir de R$ 203        | Varia conforme o quarto selecionado   | Check-in: 14:00, Check-out: 12:00 | Varia conforme a localização exata                    | Quartos confortáveis para 3 pessoas com ar condicionado e Wi-Fi. Oferece café da manhã (custo adicional) e estacionamento. Aceita cães. | Propriedade estará em manutenção de 01/03/2025 até 30/06/2025. É bom verificar o impacto no período da estadia.                                                                                                                                  |\n",
            "| Golden Park Internacional Foz do Iguaçu | Não especificado na fonte    | Centro da cidade                                         | Varia conforme o quarto     | Varia conforme o quarto selecionado   | Informar ao reservar          | Aproximadamente 15 km                         | Piscina externa com tobogã, piscina coberta, salão de jogos, playground, academia, bares. Inclui café da manhã e transfer de chegada do aeroporto. | Localizado em região central com fácil acesso a pontos turísticos. Transfer de chegada do aeroporto cortesia mediante agendamento prévio. Não aceita reserva com cartão de terceiros.                                                 |\n",
            "\n",
            "🔎 Buscando pelas informações de Passagens...\n",
            "Com base na pesquisa anterior, como os detalhes exatos de horários e preços para 19/06/2025 e 24/06/2025 não estavam totalmente disponíveis, a tabela abaixo resume as 5 opções mais relevantes para sua viagem, indicando a necessidade de pesquisa adicional para confirmar os dados específicos:\n",
            "\n",
            "| Estadia | Preço (Estimativa) | Observações |\n",
            "|---|---|---|\n",
            "| LATAM Airlines | A partir de R$ 3.834,78 (para 3 pessoas) | Ida e volta direta. Confirmar horários para as datas exatas. |\n",
            "| Decolar (Voo Direto) | A partir de R$ 1.824,00 (para 3 pessoas) | Melhor oferta encontrada. Confirmar horários e datas. |\n",
            "| Azul | Preço a pesquisar | Potencial de bom custo-benefício. Verificar voos diretos ou com 1 escala. |\n",
            "| GOL | Preço a pesquisar | Potencial de bom custo-benefício (desconsiderar a oferta mais alta). Verificar voos diretos ou com 1 escala. |\n",
            "| Agregadores de Voos | Preço a pesquisar | Buscar a melhor combinação de preço e conveniência nas datas exatas. |\n",
            "\n",
            "======================================================================================================================================================\n",
            "🫧 Precisa de mais alguma informação? Não exite em perguntar! \n",
            "\n",
            "🔎 Digite suas perguntas ou então digite \"Encerrar\" para finalizar a interação.\n",
            "======================================================================================================================================================\n",
            "- Você: Encerrar\n"
          ]
        },
        {
          "output_type": "display_data",
          "data": {
            "text/plain": [
              "<IPython.core.display.Markdown object>"
            ],
            "text/markdown": "\n- Assistente: Tudo bem. Se precisar de algo mais, é só chamar! \n"
          },
          "metadata": {}
        },
        {
          "output_type": "stream",
          "name": "stdout",
          "text": [
            "======================================================================================================================================================\n",
            "📖 Criado por Mateus Ortega Mendes. Imersão IA Alura\n",
            "======================================================================================================================================================\n",
            "\n"
          ]
        }
      ]
    }
  ]
}